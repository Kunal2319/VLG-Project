{
 "cells": [
  {
   "cell_type": "code",
   "execution_count": null,
   "id": "8fc49a21",
   "metadata": {},
   "outputs": [],
   "source": [
    "pip install opencv-python pillow numpy scikit-learn tensorflow torch torchvision"
   ]
  },
  {
   "cell_type": "code",
   "execution_count": null,
   "id": "7f09a0d4",
   "metadata": {},
   "outputs": [],
   "source": [
    "import os\n",
    "import cv2\n",
    "import numpy as np\n",
    "from sklearn.model_selection import train_test_split\n",
    "import tensorflow as tf\n",
    "from tensorflow.keras import layers, models\n",
    "from torch.utils.data import Dataset, DataLoader\n",
    "from torchvision import transforms\n",
    "from PIL import Image\n",
    "from skimage.metrics import peak_signal_noise_ratio as psnr\n",
    "import matplotlib.pyplot as plt "
   ]
  },
  {
   "cell_type": "code",
   "execution_count": null,
   "id": "085385e5",
   "metadata": {},
   "outputs": [],
   "source": [
    "def load_images(directory, size=(128, 128)):\n",
    "    img_list = []\n",
    "    for file in os.listdir(directory):\n",
    "        path = os.path.join(directory, file)\n",
    "        image = cv2.imread(path)\n",
    "        if image is not None:\n",
    "            image = cv2.cvtColor(image, cv2.COLOR_BGR2RGB)\n",
    "            image = cv2.resize(image, size)\n",
    "            image = image / 255.0\n",
    "            img_list.append(image)\n",
    "    return img_list"
   ]
  },
  {
   "cell_type": "code",
   "execution_count": null,
   "id": "0503f59b",
   "metadata": {},
   "outputs": [],
   "source": [
    "low_quality_path = 'C:/Users/Kunal /Downloads/Train/low'\n",
    "high_quality_path = 'C:/Users/Kunal/Downloads/Train/high'\n",
    "image_size = (128, 128)"
   ]
  },
  {
   "cell_type": "code",
   "execution_count": null,
   "id": "67b84cbc",
   "metadata": {},
   "outputs": [],
   "source": [
    "# Load the Images\n",
    "low_quality_images = load_images(low_quality_path, image_size)\n",
    "high_quality_images = load_images(high_quality_path, image_size)"
   ]
  },
  {
   "cell_type": "code",
   "execution_count": null,
   "id": "9373ad36",
   "metadata": {},
   "outputs": [],
   "source": [
    "train_low, test_low, train_high, test_high = train_test_split(\n",
    "    low_quality_images, high_quality_images, test_size=0.2, random_state=42\n",
    ")"
   ]
  },
  {
   "cell_type": "code",
   "execution_count": null,
   "id": "f4de4c08",
   "metadata": {},
   "outputs": [],
   "source": [
    "# Preprocessing Function for TensorFlow\n",
    "def image_preprocessing(image):\n",
    "    return tf.image.convert_image_dtype(image, tf.float32)\n",
    "\n",
    "# Create TensorFlow Datasets\n",
    "train_low_ds = tf.data.Dataset.from_tensor_slices(train_low).map(image_preprocessing).batch(32)\n",
    "train_high_ds = tf.data.Dataset.from_tensor_slices(train_high).map(image_preprocessing).batch(32)\n",
    "test_low_ds = tf.data.Dataset.from_tensor_slices(test_low).map(image_preprocessing).batch(32)\n",
    "test_high_ds = tf.data.Dataset.from_tensor_slices(test_high).map(image_preprocessing).batch(32)"
   ]
  },
  {
   "cell_type": "code",
   "execution_count": null,
   "id": "7ef34111",
   "metadata": {},
   "outputs": [],
   "source": [
    "# Combine Noisy and Clean Images for Training\n",
    "training_dataset = tf.data.Dataset.zip((train_low_ds, train_high_ds))\n",
    "testing_dataset = tf.data.Dataset.zip((test_low_ds, test_high_ds))"
   ]
  },
  {
   "cell_type": "code",
   "execution_count": null,
   "id": "04c6d791",
   "metadata": {},
   "outputs": [],
   "source": [
    "# Model Creation Function\n",
    "def build_denoising_network(input_shape):\n",
    "    net = models.Sequential()\n",
    "    net.add(layers.Input(shape=input_shape))\n",
    "    net.add(layers.Conv2D(64, (3, 3), activation='relu', padding='same'))\n",
    "    net.add(layers.MaxPooling2D((2, 2), padding='same'))\n",
    "    net.add(layers.Conv2D(32, (3, 3), activation='relu', padding='same'))\n",
    "    net.add(layers.MaxPooling2D((2, 2), padding='same'))\n",
    "    net.add(layers.Conv2D(32, (3, 3), activation='relu', padding='same'))\n",
    "    net.add(layers.UpSampling2D((2, 2)))\n",
    "    net.add(layers.Conv2D(64, (3, 3), activation='relu', padding='same'))\n",
    "    net.add(layers.UpSampling2D((2, 2)))\n",
    "    net.add(layers.Conv2D(3, (3, 3), activation='sigmoid', padding='same'))\n",
    "    return net\n",
    "# Define the Model\n",
    "input_dimensions = (128, 128, 3)\n",
    "denoising_model = build_denoising_network(input_dimensions)\n",
    "denoising_model.compile(optimizer='adam', loss='mean_squared_error')\n",
    "denoising_model.summary()"
   ]
  },
  {
   "cell_type": "code",
   "execution_count": null,
   "id": "95df722e",
   "metadata": {},
   "outputs": [],
   "source": [
    "# Train the Model\n",
    "training_history = denoising_model.fit(training_dataset, epochs=50, validation_data=testing_dataset)"
   ]
  },
  {
   "cell_type": "code",
   "execution_count": null,
   "id": "577b4a3c",
   "metadata": {},
   "outputs": [],
   "source": [
    "# Predict with the Model\n",
    "output_images = denoising_model.predict(test_low_ds)"
   ]
  },
  {
   "cell_type": "code",
   "execution_count": null,
   "id": "b548cb8e",
   "metadata": {},
   "outputs": [],
   "source": [
    "# Calculate PSNR\n",
    "psnr_scores = [psnr(test_high[i], output_images[i]) for i in range(len(test_high))]\n",
    "mean_psnr = np.mean(psnr_scores)\n",
    "print(f'Average PSNR: {mean_psnr}')"
   ]
  }
 ],
 "metadata": {
  "kernelspec": {
   "display_name": "Python 3 (ipykernel)",
   "language": "python",
   "name": "python3"
  },
  "language_info": {
   "codemirror_mode": {
    "name": "ipython",
    "version": 3
   },
   "file_extension": ".py",
   "mimetype": "text/x-python",
   "name": "python",
   "nbconvert_exporter": "python",
   "pygments_lexer": "ipython3",
   "version": "3.9.13"
  }
 },
 "nbformat": 4,
 "nbformat_minor": 5
}
